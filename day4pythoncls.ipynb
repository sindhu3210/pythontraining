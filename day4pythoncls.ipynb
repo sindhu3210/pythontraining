{
 "cells": [
  {
   "cell_type": "code",
   "execution_count": 3,
   "id": "f0ee08f0",
   "metadata": {},
   "outputs": [
    {
     "name": "stdout",
     "output_type": "stream",
     "text": [
      "u\n"
     ]
    }
   ],
   "source": [
    "name='sindhu'\n",
    "print(name[-1:])"
   ]
  },
  {
   "cell_type": "code",
   "execution_count": null,
   "id": "33412f57",
   "metadata": {},
   "outputs": [],
   "source": [
    "print(name[-6:-1])"
   ]
  },
  {
   "cell_type": "markdown",
   "id": "a8ee3cc3",
   "metadata": {},
   "source": [
    "# list"
   ]
  },
  {
   "cell_type": "code",
   "execution_count": 1,
   "id": "d9c8d292",
   "metadata": {},
   "outputs": [
    {
     "name": "stdout",
     "output_type": "stream",
     "text": [
      "['sindhu', 123, 'true']\n"
     ]
    }
   ],
   "source": [
    "list=[\"sindhu\",123,\"true\"]\n",
    "print(list)"
   ]
  },
  {
   "cell_type": "code",
   "execution_count": 2,
   "id": "ec5c5ea1",
   "metadata": {},
   "outputs": [
    {
     "name": "stdout",
     "output_type": "stream",
     "text": [
      "['honey', 123, 'true']\n"
     ]
    }
   ],
   "source": [
    "list[0]=\"honey\"\n",
    "print(list)"
   ]
  },
  {
   "cell_type": "code",
   "execution_count": 3,
   "id": "6791e203",
   "metadata": {},
   "outputs": [
    {
     "name": "stdout",
     "output_type": "stream",
     "text": [
      "['honey', 123, 'true']\n"
     ]
    }
   ],
   "source": [
    "print(list[:10])"
   ]
  },
  {
   "cell_type": "markdown",
   "id": "d23c7882",
   "metadata": {},
   "source": [
    "# list methods"
   ]
  },
  {
   "cell_type": "markdown",
   "id": "0b96fb94",
   "metadata": {},
   "source": [
    "# sort"
   ]
  },
  {
   "cell_type": "code",
   "execution_count": 7,
   "id": "4a2d0ae1",
   "metadata": {},
   "outputs": [
    {
     "name": "stdout",
     "output_type": "stream",
     "text": [
      "[12, 14, 32, 33]\n"
     ]
    }
   ],
   "source": [
    "s=[12,32,33,14]\n",
    "s.sort()\n",
    "print(s)"
   ]
  },
  {
   "cell_type": "code",
   "execution_count": 9,
   "id": "1c1e86c3",
   "metadata": {},
   "outputs": [
    {
     "name": "stdout",
     "output_type": "stream",
     "text": [
      "[5, 11, 23, 32]\n"
     ]
    }
   ],
   "source": [
    "l=[23,32,11,5]\n",
    "print(sorted(l))"
   ]
  },
  {
   "cell_type": "markdown",
   "id": "adf801b5",
   "metadata": {},
   "source": [
    " in append dont need to give index whereas in insert we can insert at a particular position by giving insert"
   ]
  },
  {
   "cell_type": "code",
   "execution_count": 11,
   "id": "26fadd36",
   "metadata": {},
   "outputs": [
    {
     "name": "stdout",
     "output_type": "stream",
     "text": [
      "[21, 12, 32, 43, 78]\n"
     ]
    }
   ],
   "source": [
    "s=[21,12,32,43]\n",
    "s.append(78)\n",
    "print(s)"
   ]
  },
  {
   "cell_type": "code",
   "execution_count": 12,
   "id": "a2ea626b",
   "metadata": {},
   "outputs": [
    {
     "name": "stdout",
     "output_type": "stream",
     "text": [
      "[21, 32, 12, 32, 43, 78]\n"
     ]
    }
   ],
   "source": [
    "s.insert(1,32)\n",
    "print(s)"
   ]
  },
  {
   "cell_type": "code",
   "execution_count": 13,
   "id": "8d2b8a32",
   "metadata": {},
   "outputs": [
    {
     "name": "stdout",
     "output_type": "stream",
     "text": [
      "[21, 12, 32, 43, 78]\n"
     ]
    }
   ],
   "source": [
    "s.remove(32)\n",
    "print(s)"
   ]
  },
  {
   "cell_type": "markdown",
   "id": "638b22e2",
   "metadata": {},
   "source": [
    "pop removes last index defaultly in list"
   ]
  },
  {
   "cell_type": "code",
   "execution_count": 14,
   "id": "84236c0c",
   "metadata": {},
   "outputs": [
    {
     "name": "stdout",
     "output_type": "stream",
     "text": [
      "[21, 12, 32, 43]\n"
     ]
    }
   ],
   "source": [
    "s.pop()\n",
    "print(s)"
   ]
  },
  {
   "cell_type": "code",
   "execution_count": 15,
   "id": "9847ca7d",
   "metadata": {},
   "outputs": [
    {
     "name": "stdout",
     "output_type": "stream",
     "text": [
      "[21, 12, 32]\n"
     ]
    }
   ],
   "source": [
    "s.pop(3)\n",
    "print(s)"
   ]
  },
  {
   "cell_type": "code",
   "execution_count": 9,
   "id": "43ed13ff",
   "metadata": {},
   "outputs": [
    {
     "name": "stdout",
     "output_type": "stream",
     "text": [
      "3\n"
     ]
    }
   ],
   "source": [
    "s=[1,2,3]\n",
    "print(s.pop())"
   ]
  },
  {
   "cell_type": "code",
   "execution_count": 10,
   "id": "0e581856",
   "metadata": {},
   "outputs": [
    {
     "name": "stdout",
     "output_type": "stream",
     "text": [
      "[]\n"
     ]
    }
   ],
   "source": [
    "s.clear()\n",
    "print(s)"
   ]
  },
  {
   "cell_type": "code",
   "execution_count": 26,
   "id": "6aec4f92",
   "metadata": {},
   "outputs": [
    {
     "name": "stdout",
     "output_type": "stream",
     "text": [
      "[14, 2, 13]\n",
      "[14, 13, 2]\n",
      "[2, 13, 14]\n"
     ]
    }
   ],
   "source": [
    "s=[14,2,13]\n",
    "x=s.copy()\n",
    "print(x)\n",
    "s.sort(reverse=True)\n",
    "print(s)\n",
    "s.sort()\n",
    "print(s)"
   ]
  },
  {
   "cell_type": "code",
   "execution_count": 23,
   "id": "71ce072a",
   "metadata": {},
   "outputs": [
    {
     "name": "stdout",
     "output_type": "stream",
     "text": [
      "[3, 4, 21, 45]\n",
      "[21, 3, 45, 4]\n",
      "[3, 45, 4]\n"
     ]
    }
   ],
   "source": [
    "h=[21,3,45,4]\n",
    "print(sorted(h))\n",
    "print(h)\n",
    "h.remove(21)\n",
    "print(h)"
   ]
  },
  {
   "cell_type": "markdown",
   "id": "95c5abeb",
   "metadata": {},
   "source": [
    " tuple is immutable\n",
    " list is mutable"
   ]
  },
  {
   "cell_type": "markdown",
   "id": "e8b66bdc",
   "metadata": {},
   "source": [
    "## tuple"
   ]
  },
  {
   "cell_type": "code",
   "execution_count": null,
   "id": "eab22b03",
   "metadata": {},
   "outputs": [],
   "source": [
    "#tuple=a() empty tuple\n",
    "#tuple=a(1,) tuple with one element\n",
    "# tuple=a(1,2,3) tuple with more than one element"
   ]
  },
  {
   "cell_type": "code",
   "execution_count": 17,
   "id": "905566cd",
   "metadata": {},
   "outputs": [
    {
     "name": "stdout",
     "output_type": "stream",
     "text": [
      "('sindhu', 1, 2.3)\n"
     ]
    }
   ],
   "source": [
    "s=('sindhu',1,2.3)\n",
    "print(s)"
   ]
  },
  {
   "cell_type": "markdown",
   "id": "e3acab3d",
   "metadata": {},
   "source": [
    "# tuple methods"
   ]
  },
  {
   "cell_type": "code",
   "execution_count": 20,
   "id": "a5d51d8f",
   "metadata": {},
   "outputs": [
    {
     "name": "stdout",
     "output_type": "stream",
     "text": [
      "3\n"
     ]
    }
   ],
   "source": [
    "s=(21,32,11,2,3,21,11,3,3,4)\n",
    "print(s.count(3))"
   ]
  },
  {
   "cell_type": "code",
   "execution_count": 21,
   "id": "22b8992d",
   "metadata": {},
   "outputs": [
    {
     "name": "stdout",
     "output_type": "stream",
     "text": [
      "2\n"
     ]
    }
   ],
   "source": [
    "print(s.count(21))"
   ]
  },
  {
   "cell_type": "code",
   "execution_count": 22,
   "id": "5309bb8c",
   "metadata": {},
   "outputs": [
    {
     "name": "stdout",
     "output_type": "stream",
     "text": [
      "4\n"
     ]
    }
   ],
   "source": [
    "print(s.index(3))"
   ]
  },
  {
   "cell_type": "code",
   "execution_count": 26,
   "id": "4f4d6550",
   "metadata": {},
   "outputs": [
    {
     "name": "stdout",
     "output_type": "stream",
     "text": [
      "3\n"
     ]
    }
   ],
   "source": [
    "print(s.index(2,1,4)) #index(\"Element\",start index,end index ) gives the index of a particular element"
   ]
  },
  {
   "cell_type": "code",
   "execution_count": 32,
   "id": "ed69cff1",
   "metadata": {},
   "outputs": [
    {
     "name": "stdout",
     "output_type": "stream",
     "text": [
      "mango\n",
      "apple\n",
      "banana\n",
      "jackfruit\n",
      "strawberry\n",
      "grapes\n",
      "watermelon\n",
      "['mango', 'apple', 'banana', 'jackfruit', 'strawberry', 'grapes', 'watermelon']\n"
     ]
    }
   ],
   "source": [
    "#program to enter fruits usind list entered by user\n",
    "l=[]\n",
    "for i in range(7):\n",
    "    l.append(input())\n",
    "print(l)"
   ]
  },
  {
   "cell_type": "code",
   "execution_count": 1,
   "id": "d9b5afbd",
   "metadata": {},
   "outputs": [
    {
     "name": "stdout",
     "output_type": "stream",
     "text": [
      "<class 'list'>\n"
     ]
    }
   ],
   "source": [
    "arr=[1,2,3]\n",
    "print(type(arr))"
   ]
  },
  {
   "cell_type": "markdown",
   "id": "67c5479f",
   "metadata": {},
   "source": [
    " we should import array then only we get type as array for that we need to use numpy"
   ]
  },
  {
   "cell_type": "code",
   "execution_count": null,
   "id": "f20e87bd",
   "metadata": {},
   "outputs": [],
   "source": [
    "import array as arr\n",
    "arr=arr.array('i',[1,2,3])\n",
    "print(type(arr))"
   ]
  },
  {
   "cell_type": "code",
   "execution_count": null,
   "id": "958a6680",
   "metadata": {},
   "outputs": [],
   "source": [
    "from array import *\n",
    "arr=array('i',[1,2,3])\n",
    "print(type(arr))"
   ]
  },
  {
   "cell_type": "code",
   "execution_count": 4,
   "id": "8a8729db",
   "metadata": {},
   "outputs": [
    {
     "name": "stdout",
     "output_type": "stream",
     "text": [
      "Execution occurred\n"
     ]
    }
   ],
   "source": [
    "try:\n",
    "    x='a'/'z'\n",
    "except:\n",
    "    print(\"Execution occurred\")"
   ]
  },
  {
   "cell_type": "code",
   "execution_count": 20,
   "id": "e9fd036f",
   "metadata": {},
   "outputs": [
    {
     "name": "stdout",
     "output_type": "stream",
     "text": [
      "Error occured\n",
      "hi\n"
     ]
    }
   ],
   "source": [
    "\n",
    "try:\n",
    "    x=1/0\n",
    "except ZeroDivisionError:\n",
    "    print(\"Error occured\")\n",
    "except ImportError:\n",
    "    print(\"error in import\")\n",
    "finally:\n",
    "    print(\"hi\")"
   ]
  },
  {
   "cell_type": "code",
   "execution_count": 21,
   "id": "c85a931c",
   "metadata": {},
   "outputs": [
    {
     "name": "stdout",
     "output_type": "stream",
     "text": [
      "division by zero\n"
     ]
    }
   ],
   "source": [
    "try:\n",
    "    x=1/0\n",
    "except ZeroDivisionError as err:\n",
    "    print(err)"
   ]
  },
  {
   "cell_type": "code",
   "execution_count": 23,
   "id": "1767e652",
   "metadata": {},
   "outputs": [
    {
     "name": "stdout",
     "output_type": "stream",
     "text": [
      "Array length is >= 4\n"
     ]
    }
   ],
   "source": [
    "arr=[1,2,3,4,5]\n",
    "\n",
    "try:\n",
    "    if len(arr)>=4:\n",
    "        raise ValueError(\"Array length is >= 4\")\n",
    "    else:\n",
    "        print(\"Every thing is fine\")\n",
    "except ValueError as err:\n",
    "    print(err)"
   ]
  },
  {
   "cell_type": "code",
   "execution_count": 30,
   "id": "9ff8c166",
   "metadata": {},
   "outputs": [
    {
     "name": "stdout",
     "output_type": "stream",
     "text": [
      "Exception occurred\n"
     ]
    }
   ],
   "source": [
    "class CustomException(Exception):\n",
    "    \"This is a custom exception\"\n",
    "    pass\n",
    "try:\n",
    "    x=1\n",
    "    if x==1:\n",
    "        raise CustomException\n",
    "    else:\n",
    "        print(\"X is not 1\")\n",
    "except CustomException as err:\n",
    "    print(\"Exception occurred\")"
   ]
  },
  {
   "cell_type": "markdown",
   "id": "06ff9b9f",
   "metadata": {},
   "source": [
    "# functions\n",
    "in functions there is define,call,return,function with and without return,recursive function"
   ]
  },
  {
   "cell_type": "code",
   "execution_count": null,
   "id": "394cadd1",
   "metadata": {},
   "outputs": [],
   "source": []
  }
 ],
 "metadata": {
  "kernelspec": {
   "display_name": "Python 3 (ipykernel)",
   "language": "python",
   "name": "python3"
  },
  "language_info": {
   "codemirror_mode": {
    "name": "ipython",
    "version": 3
   },
   "file_extension": ".py",
   "mimetype": "text/x-python",
   "name": "python",
   "nbconvert_exporter": "python",
   "pygments_lexer": "ipython3",
   "version": "3.10.11"
  }
 },
 "nbformat": 4,
 "nbformat_minor": 5
}
